{
 "cells": [
  {
   "cell_type": "code",
   "execution_count": 1,
   "metadata": {},
   "outputs": [],
   "source": [
    "%load_ext autoreload\n",
    "%autoreload 2\n",
    "\n",
    "import polars as pl\n",
    "import markout"
   ]
  },
  {
   "cell_type": "code",
   "execution_count": null,
   "metadata": {},
   "outputs": [],
   "source": [
    "# load pools\n",
    "# TODO: can I totally skip this step? Ideally you could build it as an add-on feature to make the analysis extensible.\n",
    "pools = (\n",
    "    # see pools.sql\n",
    "    pl.read_csv('2024.5.2 uniswap pools for markout analysis.csv')\n",
    "    # I need to filter out for WETH pairs only because I don't have USDC values for everything else\n",
    "    # I'm filtering in the Python rather than the SQL so that it's extensible to USDC in the future.\n",
    "    .filter(\n",
    "        (pl.col('TOKEN0_ADDRESS') == '0xc02aaa39b223fe8d0a0e5c4f27ead9083c756cc2')\n",
    "        |\n",
    "        (pl.col('TOKEN1_ADDRESS') == '0xc02aaa39b223fe8d0a0e5c4f27ead9083c756cc2')\n",
    "    )\n",
    "    .with_columns(\n",
    "        FEE = (pl.col('FEE')/100).cast(pl.Int8),\n",
    "        # whether WETH is token0 or not\n",
    "        # TODO: can I remove this and pass decimals to the markout?\n",
    "        IS_WETH_TOKEN0 = (\n",
    "            pl.when(pl.col('TOKEN0_ADDRESS') == '0xc02aaa39b223fe8d0a0e5c4f27ead9083c756cc2')\n",
    "            .then(True)\n",
    "            .otherwise(False)\n",
    "        )\n",
    "    )\n",
    ")"
   ]
  },
  {
   "cell_type": "code",
   "execution_count": 2,
   "metadata": {},
   "outputs": [],
   "source": [
    "# FYI BOB/WETH is 0x3887e82dbdbe8ec6db44e6298a2d48af572a3b78\n",
    "swaps = markout.loadSwaps()"
   ]
  },
  {
   "cell_type": "code",
   "execution_count": 17,
   "metadata": {},
   "outputs": [],
   "source": [
    "swaps_plus_markout = markout.construct_markout(swaps)"
   ]
  },
  {
   "cell_type": "code",
   "execution_count": 19,
   "metadata": {},
   "outputs": [],
   "source": [
    "swaps_plus_markout.head(2000).write_csv('swaps_plus_markout_cut.csv')"
   ]
  },
  {
   "cell_type": "code",
   "execution_count": 10,
   "metadata": {},
   "outputs": [
    {
     "name": "stdout",
     "output_type": "stream",
     "text": [
      "0x2dcd080327c08d6f202c7ef0b709f73d325c0464\n",
      "0x4fd305344201c6b6f15a7a55a314a3fc91d4fc8a\n",
      "0xba3e0ff5a72e928ea6f7792b2e6d70249cb4286d\n",
      "0x900549b32e9fe1ec712648e2ba5961904e311df5\n",
      "0x2b263a81573ed8a7836b590f8bed1fe9c69807a7\n",
      "0x8347d552b43c1477927ac4bcbf95921c1bd7b0d4\n",
      "0xe58f6ce1d154a63314772d8ed483e477e040a2b8\n",
      "0x91e5b0be8ec7f0f86210931ecc3b34c186d79eff\n",
      "0xb8c9dca43702409f20779a3ee62f4453b9dc641c\n"
     ]
    }
   ],
   "source": [
    "addresses_list = (swaps.\n",
    "      filter(\n",
    "            (pl.col('token0_decimals').is_null()) \n",
    "            | \n",
    "            (pl.col('token1_decimals').is_null())\n",
    "      ).select('address')\n",
    "      .unique()\n",
    "      .to_series()\n",
    "      .to_list()\n",
    ")\n",
    "for address in addresses_list:\n",
    "    print(address)"
   ]
  },
  {
   "cell_type": "code",
   "execution_count": 4,
   "metadata": {},
   "outputs": [
    {
     "data": {
      "text/html": [
       "<div><style>\n",
       ".dataframe > thead > tr,\n",
       ".dataframe > tbody > tr {\n",
       "  text-align: right;\n",
       "  white-space: pre-wrap;\n",
       "}\n",
       "</style>\n",
       "<small>shape: (9, 12)</small><table border=\"1\" class=\"dataframe\"><thead><tr><th>statistic</th><th>address</th><th>block_timestamp</th><th>block_number</th><th>transaction_index</th><th>transaction_hash</th><th>amount0</th><th>token0_decimals</th><th>amount1</th><th>token1_decimals</th><th>sqrtPriceX96</th><th>token0_symbol</th></tr><tr><td>str</td><td>str</td><td>str</td><td>f64</td><td>f64</td><td>str</td><td>f64</td><td>f64</td><td>f64</td><td>f64</td><td>str</td><td>str</td></tr></thead><tbody><tr><td>&quot;count&quot;</td><td>&quot;3325969&quot;</td><td>&quot;3325969&quot;</td><td>3.325969e6</td><td>3.325969e6</td><td>&quot;3325969&quot;</td><td>3.325969e6</td><td>3.323791e6</td><td>3.325969e6</td><td>3.325117e6</td><td>&quot;3325969&quot;</td><td>&quot;3323791&quot;</td></tr><tr><td>&quot;null_count&quot;</td><td>&quot;0&quot;</td><td>&quot;0&quot;</td><td>0.0</td><td>0.0</td><td>&quot;0&quot;</td><td>0.0</td><td>2178.0</td><td>0.0</td><td>852.0</td><td>&quot;0&quot;</td><td>&quot;2178&quot;</td></tr><tr><td>&quot;mean&quot;</td><td>null</td><td>&quot;2023-07-15 17:…</td><td>1.7701e7</td><td>172.656638</td><td>null</td><td>1.3152e38</td><td>15.720892</td><td>2.8620e38</td><td>16.491509</td><td>null</td><td>null</td></tr><tr><td>&quot;std&quot;</td><td>null</td><td>null</td><td>193740.233298</td><td>150.84641</td><td>null</td><td>3.2865e41</td><td>4.537996</td><td>3.6849e41</td><td>3.926501</td><td>null</td><td>null</td></tr><tr><td>&quot;min&quot;</td><td>&quot;0x0073ce82d9a8…</td><td>&quot;2023-06-01 00:…</td><td>1.7382266e7</td><td>1.0</td><td>&quot;0x0000039e791d…</td><td>-3.7959e44</td><td>0.0</td><td>-2.1094e33</td><td>0.0</td><td>&quot;10000002698099…</td><td>&quot; SHOP&quot;</td></tr><tr><td>&quot;25%&quot;</td><td>null</td><td>&quot;2023-06-21 23:…</td><td>1.7531242e7</td><td>57.0</td><td>null</td><td>-1.7569e20</td><td>18.0</td><td>-5.0174e17</td><td>18.0</td><td>null</td><td>null</td></tr><tr><td>&quot;50%&quot;</td><td>null</td><td>&quot;2023-07-15 19:…</td><td>1.7700948e7</td><td>151.0</td><td>null</td><td>-6.7009e8</td><td>18.0</td><td>1.0000e9</td><td>18.0</td><td>null</td><td>null</td></tr><tr><td>&quot;75%&quot;</td><td>null</td><td>&quot;2023-08-08 18:…</td><td>1.7871984e7</td><td>253.0</td><td>null</td><td>5.1500e18</td><td>18.0</td><td>4.5000e17</td><td>18.0</td><td>null</td><td>null</td></tr><tr><td>&quot;max&quot;</td><td>&quot;0xffdb25e0f0c6…</td><td>&quot;2023-08-31 23:…</td><td>1.8037987e7</td><td>10136.0</td><td>&quot;0xfffffbb18ccd…</td><td>3.8442e44</td><td>18.0</td><td>4.8757e44</td><td>27.0</td><td>&quot;99999949382130…</td><td>&quot;똥코인&quot;</td></tr></tbody></table></div>"
      ],
      "text/plain": [
       "shape: (9, 12)\n",
       "┌───────────┬───────────┬───────────┬───────────┬───┬───────────┬───────────┬───────────┬──────────┐\n",
       "│ statistic ┆ address   ┆ block_tim ┆ block_num ┆ … ┆ amount1   ┆ token1_de ┆ sqrtPrice ┆ token0_s │\n",
       "│ ---       ┆ ---       ┆ estamp    ┆ ber       ┆   ┆ ---       ┆ cimals    ┆ X96       ┆ ymbol    │\n",
       "│ str       ┆ str       ┆ ---       ┆ ---       ┆   ┆ f64       ┆ ---       ┆ ---       ┆ ---      │\n",
       "│           ┆           ┆ str       ┆ f64       ┆   ┆           ┆ f64       ┆ str       ┆ str      │\n",
       "╞═══════════╪═══════════╪═══════════╪═══════════╪═══╪═══════════╪═══════════╪═══════════╪══════════╡\n",
       "│ count     ┆ 3325969   ┆ 3325969   ┆ 3.325969e ┆ … ┆ 3.325969e ┆ 3.325117e ┆ 3325969   ┆ 3323791  │\n",
       "│           ┆           ┆           ┆ 6         ┆   ┆ 6         ┆ 6         ┆           ┆          │\n",
       "│ null_coun ┆ 0         ┆ 0         ┆ 0.0       ┆ … ┆ 0.0       ┆ 852.0     ┆ 0         ┆ 2178     │\n",
       "│ t         ┆           ┆           ┆           ┆   ┆           ┆           ┆           ┆          │\n",
       "│ mean      ┆ null      ┆ 2023-07-1 ┆ 1.7701e7  ┆ … ┆ 2.8620e38 ┆ 16.491509 ┆ null      ┆ null     │\n",
       "│           ┆           ┆ 5 17:29:4 ┆           ┆   ┆           ┆           ┆           ┆          │\n",
       "│           ┆           ┆ 5.014455  ┆           ┆   ┆           ┆           ┆           ┆          │\n",
       "│ std       ┆ null      ┆ null      ┆ 193740.23 ┆ … ┆ 3.6849e41 ┆ 3.926501  ┆ null      ┆ null     │\n",
       "│           ┆           ┆           ┆ 3298      ┆   ┆           ┆           ┆           ┆          │\n",
       "│ min       ┆ 0x0073ce8 ┆ 2023-06-0 ┆ 1.7382266 ┆ … ┆ -2.1094e3 ┆ 0.0       ┆ 100000026 ┆  SHOP    │\n",
       "│           ┆ 2d9a8ffa9 ┆ 1         ┆ e7        ┆   ┆ 3         ┆           ┆ 980991590 ┆          │\n",
       "│           ┆ b695cca63 ┆ 00:00:11  ┆           ┆   ┆           ┆           ┆ 111007881 ┆          │\n",
       "│           ┆ cd399…    ┆           ┆           ┆   ┆           ┆           ┆ 80201…    ┆          │\n",
       "│ 25%       ┆ null      ┆ 2023-06-2 ┆ 1.7531242 ┆ … ┆ -5.0174e1 ┆ 18.0      ┆ null      ┆ null     │\n",
       "│           ┆           ┆ 1         ┆ e7        ┆   ┆ 7         ┆           ┆           ┆          │\n",
       "│           ┆           ┆ 23:15:11  ┆           ┆   ┆           ┆           ┆           ┆          │\n",
       "│ 50%       ┆ null      ┆ 2023-07-1 ┆ 1.7700948 ┆ … ┆ 1.0000e9  ┆ 18.0      ┆ null      ┆ null     │\n",
       "│           ┆           ┆ 5         ┆ e7        ┆   ┆           ┆           ┆           ┆          │\n",
       "│           ┆           ┆ 19:50:35  ┆           ┆   ┆           ┆           ┆           ┆          │\n",
       "│ 75%       ┆ null      ┆ 2023-08-0 ┆ 1.7871984 ┆ … ┆ 4.5000e17 ┆ 18.0      ┆ null      ┆ null     │\n",
       "│           ┆           ┆ 8         ┆ e7        ┆   ┆           ┆           ┆           ┆          │\n",
       "│           ┆           ┆ 18:27:11  ┆           ┆   ┆           ┆           ┆           ┆          │\n",
       "│ max       ┆ 0xffdb25e ┆ 2023-08-3 ┆ 1.8037987 ┆ … ┆ 4.8757e44 ┆ 27.0      ┆ 999999493 ┆ 똥코인   │\n",
       "│           ┆ 0f0c6e253 ┆ 1         ┆ e7        ┆   ┆           ┆           ┆ 821303738 ┆          │\n",
       "│           ┆ bd62ee5fb ┆ 23:59:59  ┆           ┆   ┆           ┆           ┆ 387258657 ┆          │\n",
       "│           ┆ 8596c…    ┆           ┆           ┆   ┆           ┆           ┆ 62        ┆          │\n",
       "└───────────┴───────────┴───────────┴───────────┴───┴───────────┴───────────┴───────────┴──────────┘"
      ]
     },
     "execution_count": 4,
     "metadata": {},
     "output_type": "execute_result"
    }
   ],
   "source": [
    "swaps.describe()"
   ]
  },
  {
   "cell_type": "code",
   "execution_count": null,
   "metadata": {},
   "outputs": [],
   "source": [
    "\"\"\"\n",
    "    TODO:\n",
    "    something like\n",
    "    for pool in \"pools\", which is a pl.DataFrame\n",
    "    get the pool address and chain\n",
    "    call load_all_swaps, which returns a pl.DataFrame\n",
    "    pass the df, TOKEN0_DECIMALS, TOKEN1_DECIMALS, IS_WETH_TOKEN0, and weth_prices to construct_markout\n",
    "    call execute_markout, which returns a pl.DataFrame\n",
    "    append the DataFrame to \"results\", a pl.DataFrame\n",
    "\"\"\"\n",
    "\n",
    "def process_pools(pools: pl.DataFrame) -> pl.DataFrame:\n",
    "    # Initialize an empty list to store the results\n",
    "    results = []\n",
    "\n",
    "    for pool in pools.iter_rows(named=True):\n",
    "\n",
    "        pool_address = pool['LIQUIDITY_POOL_ADDRESS']\n",
    "        chain = 'ethereum' \n",
    "        # TODO: lint - these should be lowercase\n",
    "        TOKEN0_DECIMALS = pool['TOKEN0_DECIMALS']\n",
    "        TOKEN1_DECIMALS = pool['TOKEN1_DECIMALS']\n",
    "        IS_WETH_TOKEN0 = pool['IS_WETH_TOKEN0']\n",
    "        fee = pool['FEE']\n",
    "\n",
    "        # Load all swaps for the current pool\n",
    "        swaps_df = markout.load_all_swaps(pool_address, chain)\n",
    "\n",
    "        # Construct the markout DataFrame\n",
    "        markout_df = markout.construct_markout(swaps_df, TOKEN0_DECIMALS, TOKEN1_DECIMALS, IS_WETH_TOKEN0)\n",
    "\n",
    "        # Execute the markout calculation\n",
    "        markout_result = markout.execute_markout(markout_df)\n",
    "\n",
    "        # Add pool information to the result\n",
    "        markout_result['pool_address'] = pool_address\n",
    "        markout_result['chain'] = chain\n",
    "        markout_result['fee'] = fee\n",
    "\n",
    "        # Append the result to the list\n",
    "        results.append(markout_result)\n",
    "\n",
    "    # Convert the list of results to a Polars DataFrame\n",
    "    result_df = pl.from_dicts(results)\n",
    "\n",
    "    return result_df\n",
    "\n",
    "# Assuming you have a DataFrame called 'pools' with pool information\n",
    "# and a DataFrame called 'weth_prices' with WETH price data\n",
    "result_df = process_pools(pools)\n",
    "\n",
    "# TODO: then plot. x axis as volume, y axis as markout, can plot fee as dot color."
   ]
  },
  {
   "cell_type": "code",
   "execution_count": null,
   "metadata": {},
   "outputs": [],
   "source": [
    "bad_results = (result_df.explode('total_volume', 'total_markout')\n",
    "      .filter(\n",
    "          (pl.col('total_volume') != 0.0) &\n",
    "          (pl.col('total_markout') > -508827)\n",
    "      )\n",
    "      )"
   ]
  },
  {
   "cell_type": "code",
   "execution_count": null,
   "metadata": {},
   "outputs": [],
   "source": [
    "bad_results.select([\"total_volume\", \"total_markout\"]).plot.scatter(x=\"total_volume\", y=\"total_markout\")"
   ]
  },
  {
   "cell_type": "code",
   "execution_count": null,
   "metadata": {},
   "outputs": [],
   "source": [
    "result_df.explode(['total_volume', 'total_markout']).head()\n",
    "# result_df.explode(['total_volume_usd', 'total_markout_usd']).head().write_csv('results.csv')"
   ]
  },
  {
   "cell_type": "code",
   "execution_count": null,
   "metadata": {},
   "outputs": [],
   "source": [
    "exploded_df = result_df.explode(['total_volume', 'total_markout'])\n",
    "\n",
    "exploded_df.select([\"total_volume\", \"total_markout\"]).plot.scatter(x=\"total_volume\", y=\"total_markout\")"
   ]
  },
  {
   "cell_type": "code",
   "execution_count": null,
   "metadata": {},
   "outputs": [],
   "source": []
  }
 ],
 "metadata": {
  "kernelspec": {
   "display_name": "Python 3",
   "language": "python",
   "name": "python3"
  },
  "language_info": {
   "codemirror_mode": {
    "name": "ipython",
    "version": 3
   },
   "file_extension": ".py",
   "mimetype": "text/x-python",
   "name": "python",
   "nbconvert_exporter": "python",
   "pygments_lexer": "ipython3",
   "version": "3.11.0"
  }
 },
 "nbformat": 4,
 "nbformat_minor": 2
}
