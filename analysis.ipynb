{
 "cells": [
  {
   "cell_type": "code",
   "execution_count": 15,
   "metadata": {},
   "outputs": [],
   "source": [
    "import polars as pl\n",
    "import markout"
   ]
  },
  {
   "cell_type": "code",
   "execution_count": null,
   "metadata": {},
   "outputs": [],
   "source": [
    "# load pools\n",
    "# TODO: can I totally skip this step?\n",
    "pools = (\n",
    "    # see pools.sql\n",
    "    pl.read_csv('2024.5.2 uniswap pools for markout analysis.csv')\n",
    "    # I need to filter out for WETH pairs only because I don't have USDC values for everything else\n",
    "    # I'm filtering in the Python rather than the SQL so that it's extensible to USDC in the future.\n",
    "    .filter(\n",
    "        (pl.col('TOKEN0_ADDRESS') == '0xc02aaa39b223fe8d0a0e5c4f27ead9083c756cc2')\n",
    "        |\n",
    "        (pl.col('TOKEN1_ADDRESS') == '0xc02aaa39b223fe8d0a0e5c4f27ead9083c756cc2')\n",
    "    )\n",
    "    .with_columns(\n",
    "        FEE = (pl.col('FEE')/100).cast(pl.Int8),\n",
    "        # whether WETH is token0 or not\n",
    "        # TODO: can I remove this and pass decimals to the markout?\n",
    "        IS_WETH_TOKEN0 = (\n",
    "            pl.when(pl.col('TOKEN0_ADDRESS') == '0xc02aaa39b223fe8d0a0e5c4f27ead9083c756cc2')\n",
    "            .then(True)\n",
    "            .otherwise(False)\n",
    "        )\n",
    "    )\n",
    ")"
   ]
  },
  {
   "cell_type": "code",
   "execution_count": 12,
   "metadata": {},
   "outputs": [
    {
     "data": {
      "text/html": [
       "<div><style>\n",
       ".dataframe > thead > tr,\n",
       ".dataframe > tbody > tr {\n",
       "  text-align: right;\n",
       "  white-space: pre-wrap;\n",
       "}\n",
       "</style>\n",
       "<small>shape: (5, 8)</small><table border=\"1\" class=\"dataframe\"><thead><tr><th>LIQUIDITY_POOL_ADDRESS</th><th>POOL_NAME</th><th>TOKEN0_ADDRESS</th><th>TOKEN0_DECIMALS</th><th>TOKEN1_ADDRESS</th><th>TOKEN1_DECIMALS</th><th>FEE</th><th>IS_WETH_TOKEN0</th></tr><tr><td>str</td><td>str</td><td>str</td><td>i64</td><td>str</td><td>i64</td><td>i8</td><td>bool</td></tr></thead><tbody><tr><td>&quot;0x9359c87b38dd…</td><td>&quot;uniswap: DPI-W…</td><td>&quot;0x1494ca1f11d4…</td><td>18</td><td>&quot;0xc02aaa39b223…</td><td>18</td><td>30</td><td>false</td></tr><tr><td>&quot;0x919fa96e88d6…</td><td>&quot;uniswap: WETH-…</td><td>&quot;0xc02aaa39b223…</td><td>18</td><td>&quot;0xd533a949740b…</td><td>18</td><td>30</td><td>true</td></tr><tr><td>&quot;0x4628a0a564de…</td><td>&quot;uniswap: RNDR-…</td><td>&quot;0x6de037ef9ad2…</td><td>18</td><td>&quot;0xc02aaa39b223…</td><td>18</td><td>30</td><td>false</td></tr><tr><td>&quot;0xfcfdfc98062d…</td><td>&quot;uniswap: WETH-…</td><td>&quot;0xc02aaa39b223…</td><td>18</td><td>&quot;0xdef1ca1fb7fb…</td><td>18</td><td>100</td><td>true</td></tr><tr><td>&quot;0x0188c28ea32d…</td><td>&quot;uniswap: WETH-…</td><td>&quot;0xc02aaa39b223…</td><td>18</td><td>&quot;0xe410fbd0977c…</td><td>9</td><td>100</td><td>true</td></tr></tbody></table></div>"
      ],
      "text/plain": [
       "shape: (5, 8)\n",
       "┌─────────────┬─────────────┬────────────┬────────────┬────────────┬────────────┬─────┬────────────┐\n",
       "│ LIQUIDITY_P ┆ POOL_NAME   ┆ TOKEN0_ADD ┆ TOKEN0_DEC ┆ TOKEN1_ADD ┆ TOKEN1_DEC ┆ FEE ┆ IS_WETH_TO │\n",
       "│ OOL_ADDRESS ┆ ---         ┆ RESS       ┆ IMALS      ┆ RESS       ┆ IMALS      ┆ --- ┆ KEN0       │\n",
       "│ ---         ┆ str         ┆ ---        ┆ ---        ┆ ---        ┆ ---        ┆ i8  ┆ ---        │\n",
       "│ str         ┆             ┆ str        ┆ i64        ┆ str        ┆ i64        ┆     ┆ bool       │\n",
       "╞═════════════╪═════════════╪════════════╪════════════╪════════════╪════════════╪═════╪════════════╡\n",
       "│ 0x9359c87b3 ┆ uniswap:    ┆ 0x1494ca1f ┆ 18         ┆ 0xc02aaa39 ┆ 18         ┆ 30  ┆ false      │\n",
       "│ 8dd25192c5f ┆ DPI-WETH    ┆ 11d487c2bb ┆            ┆ b223fe8d0a ┆            ┆     ┆            │\n",
       "│ 2b07b351ac… ┆ 3000        ┆ e4543e9008 ┆            ┆ 0e5c4f27ea ┆            ┆     ┆            │\n",
       "│             ┆             ┆ 0a…        ┆            ┆ d9…        ┆            ┆     ┆            │\n",
       "│ 0x919fa96e8 ┆ uniswap:    ┆ 0xc02aaa39 ┆ 18         ┆ 0xd533a949 ┆ 18         ┆ 30  ┆ true       │\n",
       "│ 8d674993395 ┆ WETH-CRV    ┆ b223fe8d0a ┆            ┆ 740bb3306d ┆            ┆     ┆            │\n",
       "│ 77fa202345… ┆ 3000        ┆ 0e5c4f27ea ┆            ┆ 119cc777fa ┆            ┆     ┆            │\n",
       "│             ┆             ┆ d9…        ┆            ┆ 90…        ┆            ┆     ┆            │\n",
       "│ 0x4628a0a56 ┆ uniswap:    ┆ 0x6de037ef ┆ 18         ┆ 0xc02aaa39 ┆ 18         ┆ 30  ┆ false      │\n",
       "│ 4debfc8798e ┆ RNDR-WETH   ┆ 9ad2725eb4 ┆            ┆ b223fe8d0a ┆            ┆     ┆            │\n",
       "│ b55db5c91f… ┆ 3000        ┆ 0118bb1702 ┆            ┆ 0e5c4f27ea ┆            ┆     ┆            │\n",
       "│             ┆             ┆ eb…        ┆            ┆ d9…        ┆            ┆     ┆            │\n",
       "│ 0xfcfdfc980 ┆ uniswap:    ┆ 0xc02aaa39 ┆ 18         ┆ 0xdef1ca1f ┆ 18         ┆ 100 ┆ true       │\n",
       "│ 62d13a11cec ┆ WETH-COW    ┆ b223fe8d0a ┆            ┆ b7fbcdc777 ┆            ┆     ┆            │\n",
       "│ 48c44e4613… ┆ 10000       ┆ 0e5c4f27ea ┆            ┆ 520aa7f396 ┆            ┆     ┆            │\n",
       "│             ┆             ┆ d9…        ┆            ┆ b4…        ┆            ┆     ┆            │\n",
       "│ 0x0188c28ea ┆ uniswap:    ┆ 0xc02aaa39 ┆ 18         ┆ 0xe410fbd0 ┆ 9          ┆ 100 ┆ true       │\n",
       "│ 32d7860334b ┆ WETH-SES    ┆ b223fe8d0a ┆            ┆ 977c8a2f27 ┆            ┆     ┆            │\n",
       "│ e1a8068cfb… ┆ 10000       ┆ 0e5c4f27ea ┆            ┆ 6283425de4 ┆            ┆     ┆            │\n",
       "│             ┆             ┆ d9…        ┆            ┆ 88…        ┆            ┆     ┆            │\n",
       "└─────────────┴─────────────┴────────────┴────────────┴────────────┴────────────┴─────┴────────────┘"
      ]
     },
     "execution_count": 12,
     "metadata": {},
     "output_type": "execute_result"
    }
   ],
   "source": [
    "pools.head()"
   ]
  },
  {
   "cell_type": "code",
   "execution_count": 18,
   "metadata": {},
   "outputs": [],
   "source": [
    "# FYI BOB/WETH is 0x3887e82dbdbe8ec6db44e6298a2d48af572a3b78\n",
    "swaps = (\n",
    "    #TODO: add datetime conversion (maybe?)\n",
    "    pl.read_csv('all_swaps.csv', dtypes={'sqrt_price_x96':pl.String})\n",
    "    .with_columns(\n",
    "        pl.col('block_timestamp').str.strptime(pl.Datetime, format = '%Y-%m-%d %H:%M:%S %Z')\n",
    "    )\n",
    "    .sort(['liquidity_pool_address', 'block_number', 'log_index'])\n",
    ")"
   ]
  },
  {
   "cell_type": "code",
   "execution_count": 23,
   "metadata": {},
   "outputs": [],
   "source": [
    "# testing my code here\n",
    "\n",
    "testing = (markout.addPrice(swaps)\n",
    " .with_columns(\n",
    "   # adj_price is the price of token0 in terms of token1, i.e., how many token1 needed to buy one token0.\n",
    "    adj_price = (\n",
    "         (10 ** (pl.col('token1_decimals') - pl.col('token0_decimals')))\n",
    "         /\n",
    "         (pl.col('price'))\n",
    "    )\n",
    " )\n",
    " .with_columns(\n",
    "     markout_5m = pl.col('adj_price')\n",
    "                    .last() # last value over...\n",
    "                    .over(\n",
    "                        pl.col('liquidity_pool_address'), # group by pool and...\n",
    "                        pl.col('block_timestamp').dt.truncate('5m')\n",
    "                    ) # 5 mins worth of 'block_timestamp'\n",
    "                    .shift(-1)\n",
    " )\n",
    ")"
   ]
  },
  {
   "cell_type": "code",
   "execution_count": 25,
   "metadata": {},
   "outputs": [],
   "source": [
    "# liquidity_pool_address = testing['liquidity_pool_address'].unique().first()\n",
    "\n",
    "liquidity_pool_address = testing.select(pl.first('liquidity_pool_address'))[0]\n",
    "\n",
    "filtered_df = testing.filter(pl.col('liquidity_pool_address') == liquidity_pool_address)\n",
    "\n"
   ]
  },
  {
   "cell_type": "code",
   "execution_count": 28,
   "metadata": {},
   "outputs": [],
   "source": [
    "(filtered_df\n",
    " .select(['block_timestamp', 'adj_price', 'markout_5m'])\n",
    " .write_csv(file='testing.csv')\n",
    ")"
   ]
  },
  {
   "cell_type": "code",
   "execution_count": null,
   "metadata": {},
   "outputs": [],
   "source": [
    "\"\"\"\n",
    "    TODO:\n",
    "    something like\n",
    "    for pool in \"pools\", which is a pl.DataFrame\n",
    "    get the pool address and chain\n",
    "    call load_all_swaps, which returns a pl.DataFrame\n",
    "    pass the df, TOKEN0_DECIMALS, TOKEN1_DECIMALS, IS_WETH_TOKEN0, and weth_prices to construct_markout\n",
    "    call execute_markout, which returns a pl.DataFrame\n",
    "    append the DataFrame to \"results\", a pl.DataFrame\n",
    "\"\"\"\n",
    "\n",
    "def process_pools(pools: pl.DataFrame) -> pl.DataFrame:\n",
    "    # Initialize an empty list to store the results\n",
    "    results = []\n",
    "\n",
    "    for pool in pools.iter_rows(named=True):\n",
    "\n",
    "        pool_address = pool['LIQUIDITY_POOL_ADDRESS']\n",
    "        chain = 'ethereum' \n",
    "        # TODO: lint - these should be lowercase\n",
    "        TOKEN0_DECIMALS = pool['TOKEN0_DECIMALS']\n",
    "        TOKEN1_DECIMALS = pool['TOKEN1_DECIMALS']\n",
    "        IS_WETH_TOKEN0 = pool['IS_WETH_TOKEN0']\n",
    "        fee = pool['FEE']\n",
    "\n",
    "        # Load all swaps for the current pool\n",
    "        swaps_df = markout.load_all_swaps(pool_address, chain)\n",
    "\n",
    "        # Construct the markout DataFrame\n",
    "        markout_df = markout.construct_markout(swaps_df, TOKEN0_DECIMALS, TOKEN1_DECIMALS, IS_WETH_TOKEN0)\n",
    "\n",
    "        # Execute the markout calculation\n",
    "        markout_result = markout.execute_markout(markout_df)\n",
    "\n",
    "        # Add pool information to the result\n",
    "        markout_result['pool_address'] = pool_address\n",
    "        markout_result['chain'] = chain\n",
    "        markout_result['fee'] = fee\n",
    "\n",
    "        # Append the result to the list\n",
    "        results.append(markout_result)\n",
    "\n",
    "    # Convert the list of results to a Polars DataFrame\n",
    "    result_df = pl.from_dicts(results)\n",
    "\n",
    "    return result_df\n",
    "\n",
    "# Assuming you have a DataFrame called 'pools' with pool information\n",
    "# and a DataFrame called 'weth_prices' with WETH price data\n",
    "result_df = process_pools(pools)\n",
    "\n",
    "# TODO: then plot. x axis as volume, y axis as markout, can plot fee as dot color."
   ]
  },
  {
   "cell_type": "code",
   "execution_count": null,
   "metadata": {},
   "outputs": [],
   "source": [
    "bad_results = (result_df.explode('total_volume', 'total_markout')\n",
    "      .filter(\n",
    "          (pl.col('total_volume') != 0.0) &\n",
    "          (pl.col('total_markout') > -508827)\n",
    "      )\n",
    "      )"
   ]
  },
  {
   "cell_type": "code",
   "execution_count": null,
   "metadata": {},
   "outputs": [],
   "source": [
    "bad_results.select([\"total_volume\", \"total_markout\"]).plot.scatter(x=\"total_volume\", y=\"total_markout\")"
   ]
  },
  {
   "cell_type": "code",
   "execution_count": null,
   "metadata": {},
   "outputs": [],
   "source": [
    "result_df.explode(['total_volume', 'total_markout']).head()\n",
    "# result_df.explode(['total_volume_usd', 'total_markout_usd']).head().write_csv('results.csv')"
   ]
  },
  {
   "cell_type": "code",
   "execution_count": null,
   "metadata": {},
   "outputs": [],
   "source": [
    "exploded_df = result_df.explode(['total_volume', 'total_markout'])\n",
    "\n",
    "exploded_df.select([\"total_volume\", \"total_markout\"]).plot.scatter(x=\"total_volume\", y=\"total_markout\")"
   ]
  },
  {
   "cell_type": "code",
   "execution_count": null,
   "metadata": {},
   "outputs": [],
   "source": []
  }
 ],
 "metadata": {
  "kernelspec": {
   "display_name": "Python 3",
   "language": "python",
   "name": "python3"
  },
  "language_info": {
   "codemirror_mode": {
    "name": "ipython",
    "version": 3
   },
   "file_extension": ".py",
   "mimetype": "text/x-python",
   "name": "python",
   "nbconvert_exporter": "python",
   "pygments_lexer": "ipython3",
   "version": "3.11.0"
  }
 },
 "nbformat": 4,
 "nbformat_minor": 2
}
